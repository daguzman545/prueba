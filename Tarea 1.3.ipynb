{
 "cells": [
  {
   "cell_type": "code",
   "execution_count": 10,
   "id": "c3be95f4",
   "metadata": {},
   "outputs": [
    {
     "data": {
      "text/plain": [
       "(M ⟂ R, J, S | A)\n",
       "(M ⟂ J, S | A, R)\n",
       "(M ⟂ R, S | A, J)\n",
       "(M ⟂ R, J | A, S)\n",
       "(M ⟂ S | A, R, J)\n",
       "(M ⟂ J | A, R, S)\n",
       "(M ⟂ R | A, J, S)\n",
       "(R ⟂ S)\n",
       "(R ⟂ M, J | A)\n",
       "(R ⟂ J | A, M)\n",
       "(R ⟂ M | A, J)\n",
       "(R ⟂ M, J | A, S)\n",
       "(R ⟂ J | A, M, S)\n",
       "(R ⟂ M | A, J, S)\n",
       "(S ⟂ R)\n",
       "(S ⟂ M, J | A)\n",
       "(S ⟂ J | A, M)\n",
       "(S ⟂ M, J | A, R)\n",
       "(S ⟂ M | A, J)\n",
       "(S ⟂ J | A, R, M)\n",
       "(S ⟂ M | A, R, J)\n",
       "(J ⟂ R, M, S | A)\n",
       "(J ⟂ M, S | A, R)\n",
       "(J ⟂ R, S | A, M)\n",
       "(J ⟂ R, M | A, S)\n",
       "(J ⟂ S | A, R, M)\n",
       "(J ⟂ M | A, R, S)\n",
       "(J ⟂ R | A, M, S)"
      ]
     },
     "execution_count": 10,
     "metadata": {},
     "output_type": "execute_result"
    }
   ],
   "source": [
    "alarm_model.get_independencies()"
   ]
  },
  {
   "cell_type": "code",
   "execution_count": 9,
   "id": "7aa4739d",
   "metadata": {},
   "outputs": [
    {
     "data": {
      "text/plain": [
       "True"
      ]
     },
     "execution_count": 9,
     "metadata": {},
     "output_type": "execute_result"
    }
   ],
   "source": [
    "# Checking if the cpds are valid for the model\n",
    "alarm_model.check_model()"
   ]
  },
  {
   "cell_type": "code",
   "execution_count": 8,
   "id": "c38f84ed",
   "metadata": {},
   "outputs": [],
   "source": [
    "# Associating the parameters with the model structure\n",
    "alarm_model.add_cpds(\n",
    "    cpd_r, cpd_s, cpd_a, cpd_j, cpd_m\n",
    ")"
   ]
  },
  {
   "cell_type": "code",
   "execution_count": 5,
   "id": "3550b8f6",
   "metadata": {},
   "outputs": [],
   "source": [
    "cpd_j = TabularCPD(\n",
    "    variable=\"J\",\n",
    "    variable_card=2,\n",
    "    values=[[0.1, 0.95], [0.9, 0.05]],\n",
    "    evidence=[\"A\"],\n",
    "    evidence_card=[2],\n",
    ")\n",
    "cpd_m = TabularCPD(\n",
    "    variable=\"M\",\n",
    "    variable_card=2,\n",
    "    values=[[0.7, 0.1], [0.3, 0.9]],\n",
    "    evidence=[\"A\"],\n",
    "    evidence_card=[2],\n",
    ")"
   ]
  },
  {
   "cell_type": "code",
   "execution_count": 7,
   "id": "c9fcba70",
   "metadata": {},
   "outputs": [],
   "source": [
    "# Defining network structure\n",
    "\n",
    "alarm_model = BayesianNetwork(\n",
    "    [\n",
    "        (\"R\", \"A\"),\n",
    "        (\"S\", \"A\"),\n",
    "        (\"A\", \"J\"),\n",
    "        (\"A\", \"M\"),\n",
    "    ]\n",
    ")\n",
    "\n",
    "# Defining the parameters using CPT\n",
    "from pgmpy.factors.discrete import TabularCPD\n",
    "\n",
    "cpd_r = TabularCPD(\n",
    "    variable=\"R\", variable_card=2, values=[[0.001], [0.999]]\n",
    ")\n",
    "cpd_s = TabularCPD(\n",
    "    variable=\"S\", variable_card=2, values=[[0.002], [0.998]]\n",
    ")\n",
    "cpd_a = TabularCPD(\n",
    "    variable=\"A\",\n",
    "    variable_card=2,\n",
    "    values=[[0.95, 0.94, 0.29, 0.001],[0.05, 0.06, 0.71, 0.999]],\n",
    "    evidence=[\"R\", \"S\"],\n",
    "    evidence_card=[2, 2],\n",
    ")"
   ]
  },
  {
   "cell_type": "code",
   "execution_count": 3,
   "id": "8a0b7a7b",
   "metadata": {},
   "outputs": [],
   "source": [
    "# Importing Library\n",
    "from pgmpy.models import BayesianNetwork\n",
    "from pgmpy.inference import VariableElimination"
   ]
  },
  {
   "cell_type": "code",
   "execution_count": 30,
   "id": "59e50e71",
   "metadata": {},
   "outputs": [
    {
     "ename": "ValueError",
     "evalue": "Length of evidence_card doesn't match length of evidence",
     "output_type": "error",
     "traceback": [
      "\u001b[1;31m---------------------------------------------------------------------------\u001b[0m",
      "\u001b[1;31mValueError\u001b[0m                                Traceback (most recent call last)",
      "\u001b[1;32m<ipython-input-30-e5815641b030>\u001b[0m in \u001b[0;36m<module>\u001b[1;34m\u001b[0m\n\u001b[1;32m----> 1\u001b[1;33m cpd_m = TabularCPD(\n\u001b[0m\u001b[0;32m      2\u001b[0m     \u001b[0mvariable\u001b[0m\u001b[1;33m=\u001b[0m\u001b[1;34m\"M\"\u001b[0m\u001b[1;33m,\u001b[0m\u001b[1;33m\u001b[0m\u001b[1;33m\u001b[0m\u001b[0m\n\u001b[0;32m      3\u001b[0m     \u001b[0mvariable_card\u001b[0m\u001b[1;33m=\u001b[0m\u001b[1;36m2\u001b[0m\u001b[1;33m,\u001b[0m\u001b[1;33m\u001b[0m\u001b[1;33m\u001b[0m\u001b[0m\n\u001b[0;32m      4\u001b[0m     values=[\n\u001b[0;32m      5\u001b[0m         \u001b[1;33m[\u001b[0m\u001b[1;36m0.70\u001b[0m\u001b[1;33m,\u001b[0m \u001b[1;36m0.01\u001b[0m\u001b[1;33m]\u001b[0m\u001b[1;33m,\u001b[0m\u001b[1;33m\u001b[0m\u001b[1;33m\u001b[0m\u001b[0m\n",
      "\u001b[1;32m~\\anaconda3\\lib\\site-packages\\pgmpy\\factors\\discrete\\CPD.py\u001b[0m in \u001b[0;36m__init__\u001b[1;34m(self, variable, variable_card, values, evidence, evidence_card, state_names)\u001b[0m\n\u001b[0;32m    118\u001b[0m             \u001b[0mvariables\u001b[0m\u001b[1;33m.\u001b[0m\u001b[0mextend\u001b[0m\u001b[1;33m(\u001b[0m\u001b[0mevidence\u001b[0m\u001b[1;33m)\u001b[0m\u001b[1;33m\u001b[0m\u001b[1;33m\u001b[0m\u001b[0m\n\u001b[0;32m    119\u001b[0m             \u001b[1;32mif\u001b[0m \u001b[1;32mnot\u001b[0m \u001b[0mlen\u001b[0m\u001b[1;33m(\u001b[0m\u001b[0mevidence_card\u001b[0m\u001b[1;33m)\u001b[0m \u001b[1;33m==\u001b[0m \u001b[0mlen\u001b[0m\u001b[1;33m(\u001b[0m\u001b[0mevidence\u001b[0m\u001b[1;33m)\u001b[0m\u001b[1;33m:\u001b[0m\u001b[1;33m\u001b[0m\u001b[1;33m\u001b[0m\u001b[0m\n\u001b[1;32m--> 120\u001b[1;33m                 raise ValueError(\n\u001b[0m\u001b[0;32m    121\u001b[0m                     \u001b[1;34m\"Length of evidence_card doesn't match length of evidence\"\u001b[0m\u001b[1;33m\u001b[0m\u001b[1;33m\u001b[0m\u001b[0m\n\u001b[0;32m    122\u001b[0m                 )\n",
      "\u001b[1;31mValueError\u001b[0m: Length of evidence_card doesn't match length of evidence"
     ]
    }
   ],
   "source": []
  },
  {
   "cell_type": "code",
   "execution_count": 29,
   "id": "c5af25ea",
   "metadata": {},
   "outputs": [
    {
     "ename": "ValueError",
     "evalue": "values must be of shape (2, 4). Got shape: (2, 2)",
     "output_type": "error",
     "traceback": [
      "\u001b[1;31m---------------------------------------------------------------------------\u001b[0m",
      "\u001b[1;31mValueError\u001b[0m                                Traceback (most recent call last)",
      "\u001b[1;32m<ipython-input-29-2cb80bc8b3e8>\u001b[0m in \u001b[0;36m<module>\u001b[1;34m\u001b[0m\n\u001b[1;32m----> 1\u001b[1;33m cpd_j = TabularCPD(\n\u001b[0m\u001b[0;32m      2\u001b[0m     \u001b[0mvariable\u001b[0m\u001b[1;33m=\u001b[0m\u001b[1;34m\"J\"\u001b[0m\u001b[1;33m,\u001b[0m\u001b[1;33m\u001b[0m\u001b[1;33m\u001b[0m\u001b[0m\n\u001b[0;32m      3\u001b[0m     \u001b[0mvariable_card\u001b[0m\u001b[1;33m=\u001b[0m\u001b[1;36m2\u001b[0m\u001b[1;33m,\u001b[0m\u001b[1;33m\u001b[0m\u001b[1;33m\u001b[0m\u001b[0m\n\u001b[0;32m      4\u001b[0m     values=[\n\u001b[0;32m      5\u001b[0m         \u001b[1;33m[\u001b[0m\u001b[1;36m0.90\u001b[0m\u001b[1;33m,\u001b[0m \u001b[1;36m0.05\u001b[0m\u001b[1;33m]\u001b[0m\u001b[1;33m,\u001b[0m\u001b[1;33m\u001b[0m\u001b[1;33m\u001b[0m\u001b[0m\n",
      "\u001b[1;32m~\\anaconda3\\lib\\site-packages\\pgmpy\\factors\\discrete\\CPD.py\u001b[0m in \u001b[0;36m__init__\u001b[1;34m(self, variable, variable_card, values, evidence, evidence_card, state_names)\u001b[0m\n\u001b[0;32m    131\u001b[0m             \u001b[0mexpected_cpd_shape\u001b[0m \u001b[1;33m=\u001b[0m \u001b[1;33m(\u001b[0m\u001b[0mvariable_card\u001b[0m\u001b[1;33m,\u001b[0m \u001b[0mnp\u001b[0m\u001b[1;33m.\u001b[0m\u001b[0mproduct\u001b[0m\u001b[1;33m(\u001b[0m\u001b[0mevidence_card\u001b[0m\u001b[1;33m)\u001b[0m\u001b[1;33m)\u001b[0m\u001b[1;33m\u001b[0m\u001b[1;33m\u001b[0m\u001b[0m\n\u001b[0;32m    132\u001b[0m         \u001b[1;32mif\u001b[0m \u001b[0mvalues\u001b[0m\u001b[1;33m.\u001b[0m\u001b[0mshape\u001b[0m \u001b[1;33m!=\u001b[0m \u001b[0mexpected_cpd_shape\u001b[0m\u001b[1;33m:\u001b[0m\u001b[1;33m\u001b[0m\u001b[1;33m\u001b[0m\u001b[0m\n\u001b[1;32m--> 133\u001b[1;33m             raise ValueError(\n\u001b[0m\u001b[0;32m    134\u001b[0m                 \u001b[1;34mf\"values must be of shape {expected_cpd_shape}. Got shape: {values.shape}\"\u001b[0m\u001b[1;33m\u001b[0m\u001b[1;33m\u001b[0m\u001b[0m\n\u001b[0;32m    135\u001b[0m             )\n",
      "\u001b[1;31mValueError\u001b[0m: values must be of shape (2, 4). Got shape: (2, 2)"
     ]
    }
   ],
   "source": [
    "cpd_j = TabularCPD(\n",
    "    variable=\"J\",\n",
    "    variable_card=2,\n",
    "    values=[\n",
    "        [0.90, 0.05],\n",
    "        [0.10, 0.95],\n",
    "    ],\n",
    "    evidence=[\"R\", \"S\"],\n",
    "    evidence_card=[2,2],\n",
    ")"
   ]
  },
  {
   "cell_type": "code",
   "execution_count": 28,
   "id": "1907ce75",
   "metadata": {},
   "outputs": [],
   "source": [
    "cpd_a = TabularCPD(\n",
    "    variable=\"A\",\n",
    "    variable_card=2,\n",
    "    values=[\n",
    "        [0.95, 0.94, 0.29, 0.001],\n",
    "        [0.5, 0.06, 0.71, 0.999],\n",
    "    ],\n",
    "    evidence=[\"R\", \"S\"],\n",
    "    evidence_card=[2, 2],\n",
    ")"
   ]
  },
  {
   "cell_type": "code",
   "execution_count": 25,
   "id": "5fa9a007",
   "metadata": {},
   "outputs": [],
   "source": [
    "cpd_r = TabularCPD(variable=\"R\", variable_card=2, values=[[0.01], [0.99]])\n",
    "cpd_s = TabularCPD(variable=\"S\", variable_card=2, values=[[0.02], [0.98]])\n"
   ]
  },
  {
   "cell_type": "code",
   "execution_count": 24,
   "id": "520ab59a",
   "metadata": {},
   "outputs": [],
   "source": [
    "from pgmpy.models import BayesianNetwork\n",
    "from pgmpy.factors.discrete import TabularCPD\n",
    "modelo = BayesianNetwork([(\"R\", \"A\"), (\"S\", \"A\"), (\"A\", \"J\"), (\"A\", \"M\")])"
   ]
  },
  {
   "cell_type": "code",
   "execution_count": 54,
   "id": "d3174f15",
   "metadata": {},
   "outputs": [
    {
     "name": "stdout",
     "output_type": "stream",
     "text": [
      "+------+----------+\n",
      "| C    |   phi(C) |\n",
      "+======+==========+\n",
      "| C(0) |   0.0000 |\n",
      "+------+----------+\n",
      "| C(1) |   0.6667 |\n",
      "+------+----------+\n",
      "| C(2) |   0.3333 |\n",
      "+------+----------+\n"
     ]
    }
   ],
   "source": [
    "posterior_p = infer.query([\"C\"], evidence={\"U\": 2, \"A\": 0})\n",
    "print(posterior_p)"
   ]
  },
  {
   "cell_type": "code",
   "execution_count": 53,
   "id": "2863986d",
   "metadata": {},
   "outputs": [
    {
     "name": "stdout",
     "output_type": "stream",
     "text": [
      "+------+----------+\n",
      "| C    |   phi(C) |\n",
      "+======+==========+\n",
      "| C(0) |   0.3333 |\n",
      "+------+----------+\n",
      "| C(1) |   0.0000 |\n",
      "+------+----------+\n",
      "| C(2) |   0.6667 |\n",
      "+------+----------+\n"
     ]
    }
   ],
   "source": [
    "posterior_p = infer.query([\"C\"], evidence={\"U\": 0, \"A\": 1})\n",
    "print(posterior_p)"
   ]
  },
  {
   "cell_type": "code",
   "execution_count": 52,
   "id": "62005a61",
   "metadata": {},
   "outputs": [
    {
     "name": "stdout",
     "output_type": "stream",
     "text": [
      "+------+----------+\n",
      "| C    |   phi(C) |\n",
      "+======+==========+\n",
      "| C(0) |   0.3333 |\n",
      "+------+----------+\n",
      "| C(1) |   0.6667 |\n",
      "+------+----------+\n",
      "| C(2) |   0.0000 |\n",
      "+------+----------+\n"
     ]
    }
   ],
   "source": [
    "posterior_p = infer.query([\"C\"], evidence={\"U\": 0, \"A\": 2})\n",
    "print(posterior_p)"
   ]
  },
  {
   "cell_type": "code",
   "execution_count": 51,
   "id": "22137df9",
   "metadata": {},
   "outputs": [],
   "source": [
    "from pgmpy.inference import VariableElimination\n",
    "\n",
    "infer = VariableElimination(modelo)"
   ]
  },
  {
   "cell_type": "code",
   "execution_count": 50,
   "id": "1eae41ec",
   "metadata": {},
   "outputs": [
    {
     "data": {
      "text/plain": [
       "True"
      ]
     },
     "execution_count": 50,
     "metadata": {},
     "output_type": "execute_result"
    }
   ],
   "source": [
    "modelo.check_model()"
   ]
  },
  {
   "cell_type": "code",
   "execution_count": null,
   "id": "0d9deafe",
   "metadata": {},
   "outputs": [],
   "source": [
    "cpd_r = TabularCPD(variable=\"C\", variable_card=2, values=[[0.1], [0.9]])\n",
    "cpd_s = TabularCPD(variable=\"C\", variable_card=2, values=[[0.33], [0.33]])\n",
    "cpd_j = TabularCPD(variable=\"C\", variable_card=2, values=[[0.33], [0.33]])\n",
    "cpd_m = TabularCPD(variable=\"C\", variable_card=2, values=[[0.33], [0.33]])"
   ]
  },
  {
   "cell_type": "code",
   "execution_count": 49,
   "id": "1d0409d8",
   "metadata": {},
   "outputs": [],
   "source": [
    "modelo.add_cpds(cpd_c, cpd_u, cpd_a)"
   ]
  },
  {
   "cell_type": "code",
   "execution_count": null,
   "id": "6a97d4f4",
   "metadata": {},
   "outputs": [],
   "source": []
  },
  {
   "cell_type": "code",
   "execution_count": 46,
   "id": "4d4601c9",
   "metadata": {},
   "outputs": [],
   "source": [
    "cpd_a = TabularCPD(\n",
    "    variable=\"A\",\n",
    "    variable_card=3,\n",
    "    values=[\n",
    "        [0, 0, 0, 0, 0.5, 1, 0, 1, 0.5],\n",
    "        [0.5, 0, 1, 0, 0, 0, 1, 0, 0.5],\n",
    "        [0.5, 1, 0, 1, 0.5, 0, 0, 0, 0],\n",
    "    ],\n",
    "    evidence=[\"C\", \"U\"],\n",
    "    evidence_card=[3, 3],\n",
    ")"
   ]
  },
  {
   "cell_type": "code",
   "execution_count": 45,
   "id": "7801220c",
   "metadata": {},
   "outputs": [],
   "source": [
    "cpd_c = TabularCPD(variable=\"C\", variable_card=3, values=[[0.33], [0.33], [0.33]])\n",
    "cpd_u = TabularCPD(variable=\"U\", variable_card=3, values=[[0.33], [0.33], [0.33]])"
   ]
  },
  {
   "cell_type": "code",
   "execution_count": 3,
   "id": "1b24882c",
   "metadata": {},
   "outputs": [],
   "source": [
    "from pgmpy.models import BayesianNetwork\n",
    "from pgmpy.factors.discrete import TabularCPD\n",
    "modelo = BayesianNetwork([(\"C\", \"A\"), (\"U\", \"A\")])"
   ]
  },
  {
   "cell_type": "code",
   "execution_count": 6,
   "id": "bf779090",
   "metadata": {},
   "outputs": [
    {
     "name": "stdout",
     "output_type": "stream",
     "text": [
      "Collecting package metadata (current_repodata.json): ...working... done\n",
      "Solving environment: ...working... done\n",
      "\n",
      "## Package Plan ##\n",
      "\n",
      "  environment location: C:\\Users\\Usuario\\anaconda3\n",
      "\n",
      "  added / updated specs:\n",
      "    - cpuonly\n",
      "    - pytorch\n",
      "    - torchaudio\n",
      "    - torchvision\n",
      "\n",
      "\n",
      "The following packages will be downloaded:\n",
      "\n",
      "    package                    |            build\n",
      "    ---------------------------|-----------------\n",
      "    cpuonly-2.0                |                0           2 KB  pytorch\n",
      "    libuv-1.40.0               |       he774522_0         255 KB\n",
      "    pytorch-1.13.1             |      py3.8_cpu_0       135.8 MB  pytorch\n",
      "    pytorch-mutex-1.0          |              cpu           3 KB  pytorch\n",
      "    torchaudio-0.13.1          |         py38_cpu         4.5 MB  pytorch\n",
      "    torchvision-0.14.1         |         py38_cpu         6.3 MB  pytorch\n",
      "    ------------------------------------------------------------\n",
      "                                           Total:       146.8 MB\n",
      "\n",
      "The following NEW packages will be INSTALLED:\n",
      "\n",
      "  cpuonly            pytorch/noarch::cpuonly-2.0-0\n",
      "  libuv              pkgs/main/win-64::libuv-1.40.0-he774522_0\n",
      "  pytorch            pytorch/win-64::pytorch-1.13.1-py3.8_cpu_0\n",
      "  pytorch-mutex      pytorch/noarch::pytorch-mutex-1.0-cpu\n",
      "  torchaudio         pytorch/win-64::torchaudio-0.13.1-py38_cpu\n",
      "  torchvision        pytorch/win-64::torchvision-0.14.1-py38_cpu\n",
      "\n",
      "\n",
      "\n",
      "Downloading and Extracting Packages\n",
      "\n",
      "torchaudio-0.13.1    | 4.5 MB    |            |   0% \n",
      "torchaudio-0.13.1    | 4.5 MB    |            |   0% \n",
      "torchaudio-0.13.1    | 4.5 MB    | 2          |   2% \n",
      "torchaudio-0.13.1    | 4.5 MB    | 3          |   4% \n",
      "torchaudio-0.13.1    | 4.5 MB    | 9          |  10% \n",
      "torchaudio-0.13.1    | 4.5 MB    | #3         |  13% \n",
      "torchaudio-0.13.1    | 4.5 MB    | #9         |  20% \n",
      "torchaudio-0.13.1    | 4.5 MB    | ###1       |  31% \n",
      "torchaudio-0.13.1    | 4.5 MB    | ###7       |  37% \n",
      "torchaudio-0.13.1    | 4.5 MB    | ####9      |  49% \n",
      "torchaudio-0.13.1    | 4.5 MB    | #####5     |  55% \n",
      "torchaudio-0.13.1    | 4.5 MB    | ######     |  61% \n",
      "torchaudio-0.13.1    | 4.5 MB    | ######7    |  67% \n",
      "torchaudio-0.13.1    | 4.5 MB    | #######4   |  74% \n",
      "torchaudio-0.13.1    | 4.5 MB    | #######9   |  79% \n",
      "torchaudio-0.13.1    | 4.5 MB    | ########6  |  86% \n",
      "torchaudio-0.13.1    | 4.5 MB    | #########3 |  93% \n",
      "torchaudio-0.13.1    | 4.5 MB    | #########8 |  99% \n",
      "torchaudio-0.13.1    | 4.5 MB    | ########## | 100% \n",
      "\n",
      "pytorch-mutex-1.0    | 3 KB      |            |   0% \n",
      "pytorch-mutex-1.0    | 3 KB      | ########## | 100% \n",
      "pytorch-mutex-1.0    | 3 KB      | ########## | 100% \n",
      "\n",
      "cpuonly-2.0          | 2 KB      |            |   0% \n",
      "cpuonly-2.0          | 2 KB      | ########## | 100% \n",
      "cpuonly-2.0          | 2 KB      | ########## | 100% \n",
      "\n",
      "libuv-1.40.0         | 255 KB    |            |   0% \n",
      "libuv-1.40.0         | 255 KB    | 6          |   6% \n",
      "libuv-1.40.0         | 255 KB    | #####      |  50% \n",
      "libuv-1.40.0         | 255 KB    | ########## | 100% \n",
      "libuv-1.40.0         | 255 KB    | ########## | 100% \n",
      "\n",
      "pytorch-1.13.1       | 135.8 MB  |            |   0% \n",
      "pytorch-1.13.1       | 135.8 MB  |            |   0% \n",
      "pytorch-1.13.1       | 135.8 MB  |            |   0% \n",
      "pytorch-1.13.1       | 135.8 MB  |            |   0% \n",
      "pytorch-1.13.1       | 135.8 MB  |            |   1% \n",
      "pytorch-1.13.1       | 135.8 MB  |            |   1% \n",
      "pytorch-1.13.1       | 135.8 MB  | 1          |   1% \n",
      "pytorch-1.13.1       | 135.8 MB  | 1          |   1% \n",
      "pytorch-1.13.1       | 135.8 MB  | 1          |   1% \n",
      "pytorch-1.13.1       | 135.8 MB  | 1          |   2% \n",
      "pytorch-1.13.1       | 135.8 MB  | 1          |   2% \n",
      "pytorch-1.13.1       | 135.8 MB  | 2          |   2% \n",
      "pytorch-1.13.1       | 135.8 MB  | 2          |   2% \n",
      "pytorch-1.13.1       | 135.8 MB  | 2          |   3% \n",
      "pytorch-1.13.1       | 135.8 MB  | 2          |   3% \n",
      "pytorch-1.13.1       | 135.8 MB  | 3          |   3% \n",
      "pytorch-1.13.1       | 135.8 MB  | 3          |   3% \n",
      "pytorch-1.13.1       | 135.8 MB  | 3          |   4% \n",
      "pytorch-1.13.1       | 135.8 MB  | 3          |   4% \n",
      "pytorch-1.13.1       | 135.8 MB  | 3          |   4% \n",
      "pytorch-1.13.1       | 135.8 MB  | 4          |   4% \n",
      "pytorch-1.13.1       | 135.8 MB  | 4          |   4% \n",
      "pytorch-1.13.1       | 135.8 MB  | 4          |   5% \n",
      "pytorch-1.13.1       | 135.8 MB  | 4          |   5% \n",
      "pytorch-1.13.1       | 135.8 MB  | 5          |   5% \n",
      "pytorch-1.13.1       | 135.8 MB  | 5          |   5% \n",
      "pytorch-1.13.1       | 135.8 MB  | 5          |   5% \n",
      "pytorch-1.13.1       | 135.8 MB  | 5          |   5% \n",
      "pytorch-1.13.1       | 135.8 MB  | 5          |   6% \n",
      "pytorch-1.13.1       | 135.8 MB  | 5          |   6% \n",
      "pytorch-1.13.1       | 135.8 MB  | 5          |   6% \n",
      "pytorch-1.13.1       | 135.8 MB  | 5          |   6% \n",
      "pytorch-1.13.1       | 135.8 MB  | 5          |   6% \n",
      "pytorch-1.13.1       | 135.8 MB  | 6          |   6% \n",
      "pytorch-1.13.1       | 135.8 MB  | 6          |   6% \n",
      "pytorch-1.13.1       | 135.8 MB  | 6          |   6% \n",
      "pytorch-1.13.1       | 135.8 MB  | 6          |   6% \n",
      "pytorch-1.13.1       | 135.8 MB  | 6          |   6% \n",
      "pytorch-1.13.1       | 135.8 MB  | 6          |   6% \n",
      "pytorch-1.13.1       | 135.8 MB  | 6          |   7% \n",
      "pytorch-1.13.1       | 135.8 MB  | 6          |   7% \n",
      "pytorch-1.13.1       | 135.8 MB  | 6          |   7% \n",
      "pytorch-1.13.1       | 135.8 MB  | 7          |   7% \n",
      "pytorch-1.13.1       | 135.8 MB  | 7          |   7% \n",
      "pytorch-1.13.1       | 135.8 MB  | 7          |   7% \n",
      "pytorch-1.13.1       | 135.8 MB  | 7          |   8% \n",
      "pytorch-1.13.1       | 135.8 MB  | 7          |   8% \n",
      "pytorch-1.13.1       | 135.8 MB  | 8          |   8% \n",
      "pytorch-1.13.1       | 135.8 MB  | 8          |   8% \n",
      "pytorch-1.13.1       | 135.8 MB  | 8          |   9% \n",
      "pytorch-1.13.1       | 135.8 MB  | 8          |   9% \n",
      "pytorch-1.13.1       | 135.8 MB  | 9          |   9% \n",
      "pytorch-1.13.1       | 135.8 MB  | 9          |  10% \n",
      "pytorch-1.13.1       | 135.8 MB  | 9          |  10% \n",
      "pytorch-1.13.1       | 135.8 MB  | #          |  10% \n",
      "pytorch-1.13.1       | 135.8 MB  | #          |  11% \n",
      "pytorch-1.13.1       | 135.8 MB  | #1         |  11% \n",
      "pytorch-1.13.1       | 135.8 MB  | #1         |  12% \n",
      "pytorch-1.13.1       | 135.8 MB  | #2         |  12% \n",
      "pytorch-1.13.1       | 135.8 MB  | #2         |  12% \n",
      "pytorch-1.13.1       | 135.8 MB  | #2         |  13% \n",
      "pytorch-1.13.1       | 135.8 MB  | #3         |  13% \n",
      "pytorch-1.13.1       | 135.8 MB  | #3         |  14% \n",
      "pytorch-1.13.1       | 135.8 MB  | #4         |  14% \n",
      "pytorch-1.13.1       | 135.8 MB  | #4         |  15% \n",
      "pytorch-1.13.1       | 135.8 MB  | #5         |  15% \n",
      "pytorch-1.13.1       | 135.8 MB  | #5         |  16% \n",
      "pytorch-1.13.1       | 135.8 MB  | #6         |  16% \n",
      "pytorch-1.13.1       | 135.8 MB  | #6         |  17% \n",
      "pytorch-1.13.1       | 135.8 MB  | #7         |  17% \n",
      "pytorch-1.13.1       | 135.8 MB  | #7         |  18% \n",
      "pytorch-1.13.1       | 135.8 MB  | #8         |  18% \n",
      "pytorch-1.13.1       | 135.8 MB  | #8         |  19% \n",
      "pytorch-1.13.1       | 135.8 MB  | #9         |  19% \n",
      "pytorch-1.13.1       | 135.8 MB  | #9         |  20% \n",
      "pytorch-1.13.1       | 135.8 MB  | ##         |  20% \n",
      "pytorch-1.13.1       | 135.8 MB  | ##         |  21% \n",
      "pytorch-1.13.1       | 135.8 MB  | ##1        |  21% \n",
      "pytorch-1.13.1       | 135.8 MB  | ##1        |  22% \n",
      "pytorch-1.13.1       | 135.8 MB  | ##1        |  22% \n",
      "pytorch-1.13.1       | 135.8 MB  | ##2        |  22% \n",
      "pytorch-1.13.1       | 135.8 MB  | ##2        |  23% \n",
      "pytorch-1.13.1       | 135.8 MB  | ##3        |  23% \n",
      "pytorch-1.13.1       | 135.8 MB  | ##3        |  24% \n",
      "pytorch-1.13.1       | 135.8 MB  | ##4        |  24% \n",
      "pytorch-1.13.1       | 135.8 MB  | ##4        |  25% \n",
      "pytorch-1.13.1       | 135.8 MB  | ##5        |  25% \n",
      "pytorch-1.13.1       | 135.8 MB  | ##5        |  26% \n",
      "pytorch-1.13.1       | 135.8 MB  | ##6        |  26% \n",
      "pytorch-1.13.1       | 135.8 MB  | ##6        |  27% \n",
      "pytorch-1.13.1       | 135.8 MB  | ##7        |  27% \n",
      "pytorch-1.13.1       | 135.8 MB  | ##7        |  28% \n",
      "pytorch-1.13.1       | 135.8 MB  | ##8        |  28% \n",
      "pytorch-1.13.1       | 135.8 MB  | ##8        |  29% \n",
      "pytorch-1.13.1       | 135.8 MB  | ##9        |  29% \n",
      "pytorch-1.13.1       | 135.8 MB  | ##9        |  30% \n",
      "pytorch-1.13.1       | 135.8 MB  | ###        |  30% \n",
      "pytorch-1.13.1       | 135.8 MB  | ###        |  31% \n",
      "pytorch-1.13.1       | 135.8 MB  | ###1       |  31% \n",
      "pytorch-1.13.1       | 135.8 MB  | ###1       |  32% \n",
      "pytorch-1.13.1       | 135.8 MB  | ###2       |  32% \n",
      "pytorch-1.13.1       | 135.8 MB  | ###2       |  33% \n",
      "pytorch-1.13.1       | 135.8 MB  | ###3       |  33% \n",
      "pytorch-1.13.1       | 135.8 MB  | ###3       |  34% \n",
      "pytorch-1.13.1       | 135.8 MB  | ###4       |  34% \n",
      "pytorch-1.13.1       | 135.8 MB  | ###4       |  35% \n",
      "pytorch-1.13.1       | 135.8 MB  | ###5       |  35% \n",
      "pytorch-1.13.1       | 135.8 MB  | ###5       |  36% \n",
      "pytorch-1.13.1       | 135.8 MB  | ###6       |  36% \n",
      "pytorch-1.13.1       | 135.8 MB  | ###6       |  37% \n",
      "pytorch-1.13.1       | 135.8 MB  | ###7       |  38% \n",
      "pytorch-1.13.1       | 135.8 MB  | ###8       |  38% \n",
      "pytorch-1.13.1       | 135.8 MB  | ###8       |  39% \n",
      "pytorch-1.13.1       | 135.8 MB  | ###9       |  39% \n",
      "pytorch-1.13.1       | 135.8 MB  | ###9       |  40% \n",
      "pytorch-1.13.1       | 135.8 MB  | ####       |  40% \n",
      "pytorch-1.13.1       | 135.8 MB  | ####       |  41% \n",
      "pytorch-1.13.1       | 135.8 MB  | ####1      |  41% \n",
      "pytorch-1.13.1       | 135.8 MB  | ####1      |  42% \n",
      "pytorch-1.13.1       | 135.8 MB  | ####2      |  42% \n",
      "pytorch-1.13.1       | 135.8 MB  | ####2      |  43% \n",
      "pytorch-1.13.1       | 135.8 MB  | ####3      |  43% \n",
      "pytorch-1.13.1       | 135.8 MB  | ####3      |  44% \n",
      "pytorch-1.13.1       | 135.8 MB  | ####4      |  44% \n",
      "pytorch-1.13.1       | 135.8 MB  | ####4      |  44% \n",
      "pytorch-1.13.1       | 135.8 MB  | ####4      |  45% \n",
      "pytorch-1.13.1       | 135.8 MB  | ####5      |  45% \n",
      "pytorch-1.13.1       | 135.8 MB  | ####5      |  46% \n",
      "pytorch-1.13.1       | 135.8 MB  | ####6      |  46% \n",
      "pytorch-1.13.1       | 135.8 MB  | ####6      |  47% \n",
      "pytorch-1.13.1       | 135.8 MB  | ####7      |  47% \n",
      "pytorch-1.13.1       | 135.8 MB  | ####7      |  48% \n",
      "pytorch-1.13.1       | 135.8 MB  | ####8      |  48% \n",
      "pytorch-1.13.1       | 135.8 MB  | ####8      |  49% \n",
      "pytorch-1.13.1       | 135.8 MB  | ####9      |  49% \n",
      "pytorch-1.13.1       | 135.8 MB  | ####9      |  50% \n",
      "pytorch-1.13.1       | 135.8 MB  | #####      |  51% \n",
      "pytorch-1.13.1       | 135.8 MB  | #####1     |  51% \n",
      "pytorch-1.13.1       | 135.8 MB  | #####1     |  52% \n",
      "pytorch-1.13.1       | 135.8 MB  | #####2     |  52% \n",
      "pytorch-1.13.1       | 135.8 MB  | #####2     |  53% \n",
      "pytorch-1.13.1       | 135.8 MB  | #####3     |  53% \n",
      "pytorch-1.13.1       | 135.8 MB  | #####3     |  54% \n",
      "pytorch-1.13.1       | 135.8 MB  | #####4     |  54% \n",
      "pytorch-1.13.1       | 135.8 MB  | #####4     |  55% \n",
      "pytorch-1.13.1       | 135.8 MB  | #####5     |  55% \n",
      "pytorch-1.13.1       | 135.8 MB  | #####5     |  56% \n",
      "pytorch-1.13.1       | 135.8 MB  | #####6     |  56% \n",
      "pytorch-1.13.1       | 135.8 MB  | #####6     |  56% \n",
      "pytorch-1.13.1       | 135.8 MB  | #####6     |  57% \n",
      "pytorch-1.13.1       | 135.8 MB  | #####7     |  57% \n",
      "pytorch-1.13.1       | 135.8 MB  | #####7     |  58% \n",
      "pytorch-1.13.1       | 135.8 MB  | #####8     |  58% \n",
      "pytorch-1.13.1       | 135.8 MB  | #####8     |  59% \n",
      "pytorch-1.13.1       | 135.8 MB  | #####9     |  59% \n",
      "pytorch-1.13.1       | 135.8 MB  | ######     |  60% \n",
      "pytorch-1.13.1       | 135.8 MB  | ######     |  60% \n",
      "pytorch-1.13.1       | 135.8 MB  | ######     |  61% \n",
      "pytorch-1.13.1       | 135.8 MB  | ######1    |  61% \n",
      "pytorch-1.13.1       | 135.8 MB  | ######1    |  62% \n",
      "pytorch-1.13.1       | 135.8 MB  | ######2    |  63% \n",
      "pytorch-1.13.1       | 135.8 MB  | ######3    |  63% \n",
      "pytorch-1.13.1       | 135.8 MB  | ######3    |  64% \n",
      "pytorch-1.13.1       | 135.8 MB  | ######4    |  64% \n",
      "pytorch-1.13.1       | 135.8 MB  | ######4    |  65% \n",
      "pytorch-1.13.1       | 135.8 MB  | ######5    |  65% \n",
      "pytorch-1.13.1       | 135.8 MB  | ######5    |  66% \n",
      "pytorch-1.13.1       | 135.8 MB  | ######6    |  66% \n",
      "pytorch-1.13.1       | 135.8 MB  | ######6    |  67% \n",
      "pytorch-1.13.1       | 135.8 MB  | ######7    |  67% \n",
      "pytorch-1.13.1       | 135.8 MB  | ######7    |  68% \n",
      "pytorch-1.13.1       | 135.8 MB  | ######8    |  68% \n",
      "pytorch-1.13.1       | 135.8 MB  | ######8    |  69% \n",
      "pytorch-1.13.1       | 135.8 MB  | ######9    |  70% \n",
      "pytorch-1.13.1       | 135.8 MB  | #######    |  70% \n",
      "pytorch-1.13.1       | 135.8 MB  | #######    |  70% \n",
      "pytorch-1.13.1       | 135.8 MB  | #######    |  71% \n",
      "pytorch-1.13.1       | 135.8 MB  | #######1   |  71% \n",
      "pytorch-1.13.1       | 135.8 MB  | #######1   |  72% \n",
      "pytorch-1.13.1       | 135.8 MB  | #######2   |  72% \n",
      "pytorch-1.13.1       | 135.8 MB  | #######2   |  73% \n",
      "pytorch-1.13.1       | 135.8 MB  | #######3   |  73% \n",
      "pytorch-1.13.1       | 135.8 MB  | #######3   |  74% \n",
      "pytorch-1.13.1       | 135.8 MB  | #######4   |  74% \n",
      "pytorch-1.13.1       | 135.8 MB  | #######4   |  75% \n",
      "pytorch-1.13.1       | 135.8 MB  | #######5   |  75% \n",
      "pytorch-1.13.1       | 135.8 MB  | #######5   |  76% \n",
      "pytorch-1.13.1       | 135.8 MB  | #######6   |  76% \n",
      "pytorch-1.13.1       | 135.8 MB  | #######6   |  76% \n",
      "pytorch-1.13.1       | 135.8 MB  | #######6   |  77% \n",
      "pytorch-1.13.1       | 135.8 MB  | #######7   |  77% \n",
      "pytorch-1.13.1       | 135.8 MB  | #######7   |  78% \n",
      "pytorch-1.13.1       | 135.8 MB  | #######8   |  79% \n",
      "pytorch-1.13.1       | 135.8 MB  | #######9   |  79% \n",
      "pytorch-1.13.1       | 135.8 MB  | #######9   |  80% \n",
      "pytorch-1.13.1       | 135.8 MB  | ########   |  81% \n",
      "pytorch-1.13.1       | 135.8 MB  | ########1  |  81% \n",
      "pytorch-1.13.1       | 135.8 MB  | ########2  |  82% \n",
      "pytorch-1.13.1       | 135.8 MB  | ########2  |  83% \n",
      "pytorch-1.13.1       | 135.8 MB  | ########3  |  83% \n",
      "pytorch-1.13.1       | 135.8 MB  | ########4  |  84% \n",
      "pytorch-1.13.1       | 135.8 MB  | ########4  |  85% \n",
      "pytorch-1.13.1       | 135.8 MB  | ########5  |  85% \n",
      "pytorch-1.13.1       | 135.8 MB  | ########6  |  86% \n",
      "pytorch-1.13.1       | 135.8 MB  | ########6  |  87% \n",
      "pytorch-1.13.1       | 135.8 MB  | ########7  |  88% \n",
      "pytorch-1.13.1       | 135.8 MB  | ########8  |  88% \n",
      "pytorch-1.13.1       | 135.8 MB  | ########9  |  89% \n",
      "pytorch-1.13.1       | 135.8 MB  | ########9  |  90% \n",
      "pytorch-1.13.1       | 135.8 MB  | #########  |  90% \n",
      "pytorch-1.13.1       | 135.8 MB  | #########1 |  91% \n",
      "pytorch-1.13.1       | 135.8 MB  | #########1 |  92% \n",
      "pytorch-1.13.1       | 135.8 MB  | #########2 |  93% \n",
      "pytorch-1.13.1       | 135.8 MB  | #########3 |  93% \n",
      "pytorch-1.13.1       | 135.8 MB  | #########3 |  94% \n",
      "pytorch-1.13.1       | 135.8 MB  | #########4 |  94% \n",
      "pytorch-1.13.1       | 135.8 MB  | #########4 |  95% \n",
      "pytorch-1.13.1       | 135.8 MB  | #########5 |  95% \n",
      "pytorch-1.13.1       | 135.8 MB  | #########5 |  96% \n",
      "pytorch-1.13.1       | 135.8 MB  | #########6 |  96% \n",
      "pytorch-1.13.1       | 135.8 MB  | #########6 |  97% \n",
      "pytorch-1.13.1       | 135.8 MB  | #########7 |  97% \n",
      "pytorch-1.13.1       | 135.8 MB  | #########7 |  98% \n",
      "pytorch-1.13.1       | 135.8 MB  | #########8 |  98% \n",
      "pytorch-1.13.1       | 135.8 MB  | #########8 |  99% \n",
      "pytorch-1.13.1       | 135.8 MB  | #########9 |  99% \n",
      "pytorch-1.13.1       | 135.8 MB  | #########9 | 100% \n",
      "pytorch-1.13.1       | 135.8 MB  | #########9 | 100% \n",
      "pytorch-1.13.1       | 135.8 MB  | ########## | 100% \n",
      "\n",
      "torchvision-0.14.1   | 6.3 MB    |            |   0% \n",
      "torchvision-0.14.1   | 6.3 MB    |            |   0% \n",
      "torchvision-0.14.1   | 6.3 MB    | 4          |   5% \n",
      "torchvision-0.14.1   | 6.3 MB    | 7          |   8% \n",
      "torchvision-0.14.1   | 6.3 MB    | #          |  10% \n",
      "torchvision-0.14.1   | 6.3 MB    | #2         |  13% \n",
      "torchvision-0.14.1   | 6.3 MB    | ##2        |  23% \n",
      "torchvision-0.14.1   | 6.3 MB    | ##7        |  27% \n",
      "torchvision-0.14.1   | 6.3 MB    | ###1       |  32% \n",
      "torchvision-0.14.1   | 6.3 MB    | ###5       |  36% \n",
      "torchvision-0.14.1   | 6.3 MB    | ####       |  40% \n",
      "torchvision-0.14.1   | 6.3 MB    | ####3      |  44% \n",
      "torchvision-0.14.1   | 6.3 MB    | ####7      |  47% \n",
      "torchvision-0.14.1   | 6.3 MB    | #####      |  51% \n",
      "torchvision-0.14.1   | 6.3 MB    | #####3     |  54% \n",
      "torchvision-0.14.1   | 6.3 MB    | #####6     |  57% \n",
      "torchvision-0.14.1   | 6.3 MB    | #####8     |  59% \n",
      "torchvision-0.14.1   | 6.3 MB    | ######2    |  63% \n",
      "torchvision-0.14.1   | 6.3 MB    | ######5    |  65% \n",
      "torchvision-0.14.1   | 6.3 MB    | ######8    |  68% \n",
      "torchvision-0.14.1   | 6.3 MB    | #######    |  71% \n",
      "torchvision-0.14.1   | 6.3 MB    | #######3   |  74% \n",
      "torchvision-0.14.1   | 6.3 MB    | #######6   |  76% \n",
      "torchvision-0.14.1   | 6.3 MB    | #######8   |  79% \n",
      "torchvision-0.14.1   | 6.3 MB    | ########1  |  82% \n",
      "torchvision-0.14.1   | 6.3 MB    | ########4  |  84% \n",
      "torchvision-0.14.1   | 6.3 MB    | ########7  |  87% \n",
      "torchvision-0.14.1   | 6.3 MB    | #########  |  90% \n",
      "torchvision-0.14.1   | 6.3 MB    | #########3 |  93% \n",
      "torchvision-0.14.1   | 6.3 MB    | #########6 |  96% \n",
      "torchvision-0.14.1   | 6.3 MB    | #########9 |  99% \n",
      "torchvision-0.14.1   | 6.3 MB    | ########## | 100% \n",
      "Preparing transaction: ...working... done\n",
      "Verifying transaction: ...working... done\n",
      "Executing transaction: ...working... done\n",
      "\n",
      "Note: you may need to restart the kernel to use updated packages.\n"
     ]
    },
    {
     "name": "stderr",
     "output_type": "stream",
     "text": [
      "\n",
      "\n",
      "==> WARNING: A newer version of conda exists. <==\n",
      "  current version: 4.10.3\n",
      "  latest version: 23.1.0\n",
      "\n",
      "Please update conda by running\n",
      "\n",
      "    $ conda update -n base -c defaults conda\n",
      "\n",
      "\n"
     ]
    }
   ],
   "source": [
    "conda install pytorch torchvision torchaudio cpuonly -c pytorch"
   ]
  },
  {
   "cell_type": "code",
   "execution_count": 31,
   "id": "0e20c1f0",
   "metadata": {},
   "outputs": [],
   "source": [
    "from pgmpy.factors.discrete import TabularCPD"
   ]
  },
  {
   "cell_type": "code",
   "execution_count": 30,
   "id": "ddf63d27",
   "metadata": {},
   "outputs": [],
   "source": [
    "from pgmpy.models import BayesianNetwork"
   ]
  },
  {
   "cell_type": "code",
   "execution_count": 3,
   "id": "ae642dd0",
   "metadata": {},
   "outputs": [
    {
     "name": "stdout",
     "output_type": "stream",
     "text": [
      "Requirement already satisfied: scipy in c:\\users\\usuario\\anaconda3\\lib\\site-packages (1.6.2)\n",
      "Requirement already satisfied: numpy<1.23.0,>=1.16.5 in c:\\users\\usuario\\anaconda3\\lib\\site-packages (from scipy) (1.20.1)\n",
      "Requirement already satisfied: scikit-learn in c:\\users\\usuario\\anaconda3\\lib\\site-packages (0.24.1)\n",
      "Requirement already satisfied: scipy>=0.19.1 in c:\\users\\usuario\\anaconda3\\lib\\site-packages (from scikit-learn) (1.6.2)\n",
      "Requirement already satisfied: joblib>=0.11 in c:\\users\\usuario\\anaconda3\\lib\\site-packages (from scikit-learn) (1.0.1)\n",
      "Requirement already satisfied: numpy>=1.13.3 in c:\\users\\usuario\\anaconda3\\lib\\site-packages (from scikit-learn) (1.20.1)\n",
      "Requirement already satisfied: threadpoolctl>=2.0.0 in c:\\users\\usuario\\anaconda3\\lib\\site-packages (from scikit-learn) (2.1.0)\n",
      "Requirement already satisfied: pandas in c:\\users\\usuario\\anaconda3\\lib\\site-packages (1.2.4)\n",
      "Requirement already satisfied: numpy>=1.16.5 in c:\\users\\usuario\\anaconda3\\lib\\site-packages (from pandas) (1.20.1)\n",
      "Requirement already satisfied: pytz>=2017.3 in c:\\users\\usuario\\anaconda3\\lib\\site-packages (from pandas) (2021.1)\n",
      "Requirement already satisfied: python-dateutil>=2.7.3 in c:\\users\\usuario\\anaconda3\\lib\\site-packages (from pandas) (2.8.1)\n",
      "Requirement already satisfied: six>=1.5 in c:\\users\\usuario\\anaconda3\\lib\\site-packages (from python-dateutil>=2.7.3->pandas) (1.15.0)\n",
      "Requirement already satisfied: pyparsing in c:\\users\\usuario\\anaconda3\\lib\\site-packages (2.4.7)\n",
      "Collecting pytorch"
     ]
    },
    {
     "name": "stderr",
     "output_type": "stream",
     "text": [
      "  ERROR: Command errored out with exit status 1:\n",
      "   command: 'C:\\Users\\Usuario\\anaconda3\\python.exe' -u -c 'import sys, setuptools, tokenize; sys.argv[0] = '\"'\"'C:\\\\Users\\\\Usuario\\\\AppData\\\\Local\\\\Temp\\\\pip-install-0sx7up_c\\\\pytorch_7c765d92d1ca4b0baad84b1db8df222a\\\\setup.py'\"'\"'; __file__='\"'\"'C:\\\\Users\\\\Usuario\\\\AppData\\\\Local\\\\Temp\\\\pip-install-0sx7up_c\\\\pytorch_7c765d92d1ca4b0baad84b1db8df222a\\\\setup.py'\"'\"';f=getattr(tokenize, '\"'\"'open'\"'\"', open)(__file__);code=f.read().replace('\"'\"'\\r\\n'\"'\"', '\"'\"'\\n'\"'\"');f.close();exec(compile(code, __file__, '\"'\"'exec'\"'\"'))' bdist_wheel -d 'C:\\Users\\Usuario\\AppData\\Local\\Temp\\pip-wheel-jufn7qo0'\n",
      "       cwd: C:\\Users\\Usuario\\AppData\\Local\\Temp\\pip-install-0sx7up_c\\pytorch_7c765d92d1ca4b0baad84b1db8df222a\\\n",
      "  Complete output (5 lines):\n",
      "  Traceback (most recent call last):\n",
      "    File \"<string>\", line 1, in <module>\n",
      "    File \"C:\\Users\\Usuario\\AppData\\Local\\Temp\\pip-install-0sx7up_c\\pytorch_7c765d92d1ca4b0baad84b1db8df222a\\setup.py\", line 15, in <module>\n",
      "      raise Exception(message)\n",
      "  Exception: You tried to install \"pytorch\". The package named for PyTorch is \"torch\"\n",
      "  ----------------------------------------\n",
      "  ERROR: Failed building wheel for pytorch\n",
      "    ERROR: Command errored out with exit status 1:\n",
      "     command: 'C:\\Users\\Usuario\\anaconda3\\python.exe' -u -c 'import sys, setuptools, tokenize; sys.argv[0] = '\"'\"'C:\\\\Users\\\\Usuario\\\\AppData\\\\Local\\\\Temp\\\\pip-install-0sx7up_c\\\\pytorch_7c765d92d1ca4b0baad84b1db8df222a\\\\setup.py'\"'\"'; __file__='\"'\"'C:\\\\Users\\\\Usuario\\\\AppData\\\\Local\\\\Temp\\\\pip-install-0sx7up_c\\\\pytorch_7c765d92d1ca4b0baad84b1db8df222a\\\\setup.py'\"'\"';f=getattr(tokenize, '\"'\"'open'\"'\"', open)(__file__);code=f.read().replace('\"'\"'\\r\\n'\"'\"', '\"'\"'\\n'\"'\"');f.close();exec(compile(code, __file__, '\"'\"'exec'\"'\"'))' install --record 'C:\\Users\\Usuario\\AppData\\Local\\Temp\\pip-record-binqw168\\install-record.txt' --single-version-externally-managed --compile --install-headers 'C:\\Users\\Usuario\\anaconda3\\Include\\pytorch'\n",
      "         cwd: C:\\Users\\Usuario\\AppData\\Local\\Temp\\pip-install-0sx7up_c\\pytorch_7c765d92d1ca4b0baad84b1db8df222a\\\n",
      "    Complete output (5 lines):\n",
      "    Traceback (most recent call last):\n",
      "      File \"<string>\", line 1, in <module>\n",
      "      File \"C:\\Users\\Usuario\\AppData\\Local\\Temp\\pip-install-0sx7up_c\\pytorch_7c765d92d1ca4b0baad84b1db8df222a\\setup.py\", line 11, in <module>\n",
      "        raise Exception(message)\n",
      "    Exception: You tried to install \"pytorch\". The package named for PyTorch is \"torch\"\n",
      "    ----------------------------------------\n",
      "ERROR: Command errored out with exit status 1: 'C:\\Users\\Usuario\\anaconda3\\python.exe' -u -c 'import sys, setuptools, tokenize; sys.argv[0] = '\"'\"'C:\\\\Users\\\\Usuario\\\\AppData\\\\Local\\\\Temp\\\\pip-install-0sx7up_c\\\\pytorch_7c765d92d1ca4b0baad84b1db8df222a\\\\setup.py'\"'\"'; __file__='\"'\"'C:\\\\Users\\\\Usuario\\\\AppData\\\\Local\\\\Temp\\\\pip-install-0sx7up_c\\\\pytorch_7c765d92d1ca4b0baad84b1db8df222a\\\\setup.py'\"'\"';f=getattr(tokenize, '\"'\"'open'\"'\"', open)(__file__);code=f.read().replace('\"'\"'\\r\\n'\"'\"', '\"'\"'\\n'\"'\"');f.close();exec(compile(code, __file__, '\"'\"'exec'\"'\"'))' install --record 'C:\\Users\\Usuario\\AppData\\Local\\Temp\\pip-record-binqw168\\install-record.txt' --single-version-externally-managed --compile --install-headers 'C:\\Users\\Usuario\\anaconda3\\Include\\pytorch' Check the logs for full command output.\n"
     ]
    },
    {
     "name": "stdout",
     "output_type": "stream",
     "text": [
      "\n",
      "  Downloading pytorch-1.0.2.tar.gz (689 bytes)\n",
      "Building wheels for collected packages: pytorch\n",
      "  Building wheel for pytorch (setup.py): started\n",
      "  Building wheel for pytorch (setup.py): finished with status 'error'\n",
      "  Running setup.py clean for pytorch\n",
      "Failed to build pytorch\n",
      "Installing collected packages: pytorch\n",
      "    Running setup.py install for pytorch: started\n",
      "    Running setup.py install for pytorch: finished with status 'error'\n",
      "Requirement already satisfied: statsmodels in c:\\users\\usuario\\anaconda3\\lib\\site-packages (0.12.2)\n",
      "Requirement already satisfied: numpy>=1.15 in c:\\users\\usuario\\anaconda3\\lib\\site-packages (from statsmodels) (1.20.1)\n",
      "Requirement already satisfied: scipy>=1.1 in c:\\users\\usuario\\anaconda3\\lib\\site-packages (from statsmodels) (1.6.2)\n",
      "Requirement already satisfied: pandas>=0.21 in c:\\users\\usuario\\anaconda3\\lib\\site-packages (from statsmodels) (1.2.4)\n",
      "Requirement already satisfied: patsy>=0.5 in c:\\users\\usuario\\anaconda3\\lib\\site-packages (from statsmodels) (0.5.1)\n",
      "Requirement already satisfied: pytz>=2017.3 in c:\\users\\usuario\\anaconda3\\lib\\site-packages (from pandas>=0.21->statsmodels) (2021.1)\n",
      "Requirement already satisfied: python-dateutil>=2.7.3 in c:\\users\\usuario\\anaconda3\\lib\\site-packages (from pandas>=0.21->statsmodels) (2.8.1)\n",
      "Requirement already satisfied: six in c:\\users\\usuario\\anaconda3\\lib\\site-packages (from patsy>=0.5->statsmodels) (1.15.0)\n",
      "Requirement already satisfied: tqdm in c:\\users\\usuario\\anaconda3\\lib\\site-packages (4.59.0)\n",
      "Requirement already satisfied: joblib in c:\\users\\usuario\\anaconda3\\lib\\site-packages (1.0.1)\n"
     ]
    }
   ],
   "source": [
    "!pip install scipy\n",
    "!pip install scikit-learn\n",
    "!pip install pandas\n",
    "!pip install pyparsing\n",
    "!pip install statsmodels\n",
    "!pip install tqdm\n",
    "!pip install joblib"
   ]
  },
  {
   "cell_type": "code",
   "execution_count": 2,
   "id": "30dd6aef",
   "metadata": {},
   "outputs": [
    {
     "name": "stdout",
     "output_type": "stream",
     "text": [
      "Requirement already satisfied: numpy in c:\\users\\usuario\\anaconda3\\lib\\site-packages (1.20.1)\n"
     ]
    }
   ],
   "source": [
    "!pip install numpy"
   ]
  },
  {
   "cell_type": "code",
   "execution_count": 1,
   "id": "eb83f258",
   "metadata": {},
   "outputs": [
    {
     "name": "stdout",
     "output_type": "stream",
     "text": [
      "Collecting pgmpy\n",
      "  Downloading pgmpy-0.1.21-py3-none-any.whl (1.9 MB)\n",
      "Requirement already satisfied: scipy in c:\\users\\usuario\\anaconda3\\lib\\site-packages (from pgmpy) (1.6.2)\n",
      "Requirement already satisfied: numpy in c:\\users\\usuario\\anaconda3\\lib\\site-packages (from pgmpy) (1.20.1)\n",
      "Requirement already satisfied: pandas in c:\\users\\usuario\\anaconda3\\lib\\site-packages (from pgmpy) (1.2.4)\n",
      "Requirement already satisfied: tqdm in c:\\users\\usuario\\anaconda3\\lib\\site-packages (from pgmpy) (4.59.0)\n",
      "Requirement already satisfied: pyparsing in c:\\users\\usuario\\anaconda3\\lib\\site-packages (from pgmpy) (2.4.7)\n",
      "Collecting torch\n",
      "  Downloading torch-1.13.1-cp38-cp38-win_amd64.whl (162.6 MB)\n",
      "Requirement already satisfied: joblib in c:\\users\\usuario\\anaconda3\\lib\\site-packages (from pgmpy) (1.0.1)\n",
      "Requirement already satisfied: statsmodels in c:\\users\\usuario\\anaconda3\\lib\\site-packages (from pgmpy) (0.12.2)\n",
      "Collecting opt-einsum\n",
      "  Downloading opt_einsum-3.3.0-py3-none-any.whl (65 kB)\n",
      "Requirement already satisfied: networkx in c:\\users\\usuario\\anaconda3\\lib\\site-packages (from pgmpy) (2.5)\n",
      "Requirement already satisfied: scikit-learn in c:\\users\\usuario\\anaconda3\\lib\\site-packages (from pgmpy) (0.24.1)\n",
      "Requirement already satisfied: decorator>=4.3.0 in c:\\users\\usuario\\anaconda3\\lib\\site-packages (from networkx->pgmpy) (4.4.2)\n",
      "Requirement already satisfied: python-dateutil>=2.7.3 in c:\\users\\usuario\\anaconda3\\lib\\site-packages (from pandas->pgmpy) (2.8.1)\n",
      "Requirement already satisfied: pytz>=2017.3 in c:\\users\\usuario\\anaconda3\\lib\\site-packages (from pandas->pgmpy) (2021.1)\n",
      "Requirement already satisfied: six>=1.5 in c:\\users\\usuario\\anaconda3\\lib\\site-packages (from python-dateutil>=2.7.3->pandas->pgmpy) (1.15.0)\n",
      "Requirement already satisfied: threadpoolctl>=2.0.0 in c:\\users\\usuario\\anaconda3\\lib\\site-packages (from scikit-learn->pgmpy) (2.1.0)\n",
      "Requirement already satisfied: patsy>=0.5 in c:\\users\\usuario\\anaconda3\\lib\\site-packages (from statsmodels->pgmpy) (0.5.1)\n",
      "Requirement already satisfied: typing-extensions in c:\\users\\usuario\\anaconda3\\lib\\site-packages (from torch->pgmpy) (3.7.4.3)\n",
      "Installing collected packages: torch, opt-einsum, pgmpy\n",
      "Successfully installed opt-einsum-3.3.0 pgmpy-0.1.21 torch-1.13.1\n"
     ]
    }
   ],
   "source": [
    "!pip install pgmpy"
   ]
  }
 ],
 "metadata": {
  "kernelspec": {
   "display_name": "Python 3",
   "language": "python",
   "name": "python3"
  },
  "language_info": {
   "codemirror_mode": {
    "name": "ipython",
    "version": 3
   },
   "file_extension": ".py",
   "mimetype": "text/x-python",
   "name": "python",
   "nbconvert_exporter": "python",
   "pygments_lexer": "ipython3",
   "version": "3.8.8"
  }
 },
 "nbformat": 4,
 "nbformat_minor": 5
}
